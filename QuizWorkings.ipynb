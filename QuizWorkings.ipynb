{
 "cells": [
  {
   "cell_type": "markdown",
   "id": "36ad9bbb",
   "metadata": {},
   "source": [
    "# Quiz Project Workings and Tests"
   ]
  },
  {
   "cell_type": "markdown",
   "id": "807e61d9",
   "metadata": {},
   "source": [
    "The purpose of this notebook is to allow for some testing of and workings on processes related to the Quiz project.\n",
    "\n",
    "The assumed directory/file structure for this notebook is as follows:\n",
    "\n",
    "- QuizWorkings.ipynb  \n",
    "- assets/\n",
    "  - data/\n",
    "    - ClinicalPracticeWorkbook.txt  "
   ]
  },
  {
   "cell_type": "markdown",
   "id": "0ce6d7f7",
   "metadata": {},
   "source": [
    "## Table Of Contents"
   ]
  },
  {
   "cell_type": "markdown",
   "id": "e7779019",
   "metadata": {},
   "source": [
    "* **0.** [Dependancies and Settings](#0-Dependancies-and-Settings)  \n",
    "* **1.** [Reading in Quiz Data](#1-Reading-in-Quiz-Data)  \n",
    "    * **1.1.** [Importing and Defining Structure](#1.1-Importing-and-Defining-Structure)  \n",
    "    * **1.2.** [Selecting Questions / Randomisation](#1.2-Selecting-Questions-/-Randomisation)  "
   ]
  },
  {
   "cell_type": "markdown",
   "id": "7603a41a",
   "metadata": {},
   "source": [
    "## 0 Dependancies and Settings"
   ]
  },
  {
   "cell_type": "markdown",
   "id": "43c4d8fd",
   "metadata": {},
   "source": [
    "Function used to get names of files in a directory:"
   ]
  },
  {
   "cell_type": "code",
   "execution_count": 1,
   "id": "464d200e",
   "metadata": {},
   "outputs": [],
   "source": [
    "# using pathlib as it is cross-platform\n",
    "from pathlib import Path\n",
    "\n",
    "def get_filenames(path: str):\n",
    "    '''\n",
    "    Returns name of file or all files in directory that path is pointing to.\n",
    "    \n",
    "    inputs: string of path to the target directory/file\n",
    "    outputs: list of string(s) of name(s) of file(s) in target directory/file\n",
    "    '''\n",
    "    \n",
    "    # get the file path from string\n",
    "    path = Path(path)\n",
    "    \n",
    "    # convert to an absolute path\n",
    "    path = path.absolute()\n",
    "    \n",
    "    # store all filename(s) used in a list\n",
    "    file_list = []\n",
    "    \n",
    "    # check if we are referencing a file or directory (folder)\n",
    "    # if directory, pass through each file and add path to list\n",
    "    if path.is_dir():\n",
    "        # get path of each file and append\n",
    "        for file in path.glob(\"*\"):\n",
    "            file_list.append(file.name)\n",
    "    # if file, just add that path to the list\n",
    "    else:\n",
    "        # filename is the last part of this path\n",
    "        filename = path.name\n",
    "        # rename path to not include the filename\n",
    "        path = list(path.parents)[0]\n",
    "        # add filename to list\n",
    "        file_list.append(filename)\n",
    "\n",
    "    # sort file_list\n",
    "    file_list = sorted(file_list)\n",
    "    \n",
    "    return file_list"
   ]
  },
  {
   "cell_type": "markdown",
   "id": "3167ad90",
   "metadata": {},
   "source": [
    "A helper function to filter a list of its elements depending on a boolean list, as seen in numpy array comprehension:"
   ]
  },
  {
   "cell_type": "code",
   "execution_count": 2,
   "id": "b1ec14fc",
   "metadata": {},
   "outputs": [],
   "source": [
    "def filter_list(old_list, boolean_filter):\n",
    "    '''\n",
    "    Returns a new list of only all the elements in the old \n",
    "    list that correspond to a True value in the boolean filter list, along with the corresponding indices\n",
    "    '''\n",
    "    \n",
    "    # new list of only the desired elements of the old list\n",
    "    new_list = []\n",
    "    \n",
    "    # find what indices are True in filter\n",
    "    filter_indices = [i for i in range(len(boolean_filter)) if boolean_filter[i] == True]\n",
    "    \n",
    "    # pass through each index and add to new list\n",
    "    for index in filter_indices:\n",
    "        new_list.append(old_list[index])\n",
    "    \n",
    "    return new_list, filter_indices"
   ]
  },
  {
   "cell_type": "markdown",
   "id": "5b21fc77",
   "metadata": {},
   "source": [
    "## 1 Reading in Quiz Data"
   ]
  },
  {
   "cell_type": "markdown",
   "id": "ec17d266",
   "metadata": {},
   "source": [
    "In this section we read in and act on the quiz data from a text file. The text file used here will be the `ClinicalPracticeWorkbook.txt` file."
   ]
  },
  {
   "cell_type": "markdown",
   "id": "2af1a334",
   "metadata": {},
   "source": [
    "### 1.1 Importing and Defining Structure"
   ]
  },
  {
   "cell_type": "markdown",
   "id": "f76724fc",
   "metadata": {},
   "source": [
    "First we import each line in the file (`Path` already imported):"
   ]
  },
  {
   "cell_type": "code",
   "execution_count": 3,
   "id": "2748843c",
   "metadata": {},
   "outputs": [
    {
     "data": {
      "text/plain": [
       "['=Chapter 1',\n",
       " '-By law P medicines can only be sold:',\n",
       " '+When a counter assistant is present',\n",
       " '_When a pharmacist is present',\n",
       " '+When a dispenser is present',\n",
       " '-Which one of the following is a GSL medicine?',\n",
       " '+32 paracetamol 500mg tablets',\n",
       " '+30 loperamide capsules',\n",
       " '_16 aspirin 300mg tablets',\n",
       " '-How long is prescription for a Controlled Drug valid for?',\n",
       " '+Six months from the date the doctor signed the prescription',\n",
       " '_28 days from the date on the prescription',\n",
       " '+28 days from the date the patient handed in the prescription to the pharmacy',\n",
       " '-Which of the following is an example of an active ingredient?',\n",
       " '_Paracetamol',\n",
       " '+Effervescent agent',\n",
       " '+Bulking agent',\n",
       " '-Which one of the following statements regarding standard operating procedures (SOPs) is TRUE?',\n",
       " '_Every step in the dispensing process should have a SOP',\n",
       " '+SOPs outline the active ingredients in a tablet',\n",
       " '+SOPs are confidential and should not be accessed by pharmacy staff',\n",
       " '-Which one of the following tasks can you NOT do in the two hour absence of the Responsible Pharmacist (RP)?',\n",
       " '+Sell GSL medicines over the counter',\n",
       " '_Hand out dispensed medicines that have been pre-checked and bagged',\n",
       " '+Take in prescriptions',\n",
       " '-A pregnant woman asks to buy some iron tablets. You should:',\n",
       " '+Sell them to her since pregnant women are often low in iron',\n",
       " '+Refer her to her doctor as she will need a blood test',\n",
       " '_Find out if she has taken them before then refer her to the pharmacist',\n",
       " '-Which one of the following customers has symptoms that should be referred to the pharmacist?',\n",
       " '+A 10 year old child who has a chesty cough that started yesterday',\n",
       " '+A 12 year old child who has had head lice for the last five days',\n",
       " '_A 14 year old child who has felt dizzy for the last two hours with a headache',\n",
       " '-What should you do when someone comes in and asks for co-codamol tablets?',\n",
       " '+Sell them to the customer without question',\n",
       " '_Refer them to the pharmacist immediately',\n",
       " '+Ask them whether they have had them before, who is going to use them, and whether they take any other medication',\n",
       " \"-A woman comes in and requests information on her husband's medication. You...\",\n",
       " \"+access the husband's PMR and tell his wife the medication he is taking\",\n",
       " '+ask the lady to confirm the address and then tell her the medication he is taking',\n",
       " '_refer the lady to your pharmacist',\n",
       " '=Chapter 2',\n",
       " '-If a patient returns some unwanted Controlled Drugs to your pharmacy, you should...',\n",
       " '_highligh this to the pharmacist immediately',\n",
       " '+dispose of them in the dustbin',\n",
       " '+dispose of them in the special waste containers',\n",
       " '-Which of the following colours indicates that the fire extinguisher is suitable for an ordinary fire involving paper?',\n",
       " '+Black',\n",
       " '_Red',\n",
       " '+Blue',\n",
       " '-What should you NOT do if you have a request for an item that is currently out of stock?',\n",
       " '+Check the stock room thoroughly to confirm the item is not in stock',\n",
       " \"_Leave the customer's details clearly visible within the pharmacy so staff can easily access them\",\n",
       " '+Check how long it will take for the item to get delivered',\n",
       " '-Which of the following can be included as part of a risk managemment programme in relation to clinical governance?',\n",
       " '+Undertaking a patient satisfaction survey anually',\n",
       " '_Appropriate waste disposal arrangements',\n",
       " '+Undertaking a clinical audit programme']"
      ]
     },
     "execution_count": 3,
     "metadata": {},
     "output_type": "execute_result"
    }
   ],
   "source": [
    "# define path to file\n",
    "path = Path.cwd() / \"assets/data/ClinicalPracticeWorkbook.txt\"\n",
    "\n",
    "# read in data\n",
    "content = path.read_text(encoding=\"utf-8\")\n",
    "# split by \"\\n\"\n",
    "content = content.splitlines()\n",
    "content"
   ]
  },
  {
   "cell_type": "markdown",
   "id": "d3d0c844",
   "metadata": {},
   "source": [
    "We can define a quiz structure as follows (where `...` refers to the rest of the string after the symbol identifier, in the actual dictionary, the identifier will not be kept). `line_index` refers to what index in the text file this line resides (counting from `0`). This assumes each question has $2$ wrong answers and $1$ correct one (while `i` and `j` in section and question refers to any number):\n",
    "\n",
    "- section count: sum i\n",
    "- section i: \n",
    "  - name: '=...'\n",
    "  - line index: line_index\n",
    "  - question count: sum j\n",
    "  - question j:\n",
    "    - name: '-...'\n",
    "    - line index: line_index\n",
    "    - wrong 0:\n",
    "      - name: '+...'\n",
    "      - line index: line_index\n",
    "    - wrong 1:\n",
    "      - name: '+...'\n",
    "      - line index: line_index\n",
    "    - correct:\n",
    "      - name: '_...'\n",
    "      - line index: line_index\n",
    "\n",
    "For example:"
   ]
  },
  {
   "cell_type": "code",
   "execution_count": 4,
   "id": "eac56b92",
   "metadata": {},
   "outputs": [
    {
     "data": {
      "text/plain": [
       "{'section count': 1,\n",
       " 'section 0': {'name': 'Chapter 1',\n",
       "  'line index': 0,\n",
       "  'question count': 1,\n",
       "  'question 0': {'name': 'By law P medicines can only be sold:',\n",
       "   'line index': 1,\n",
       "   'wrong 0': {'name': 'When a counter assistant is present', 'line index': 2},\n",
       "   'wrong 1': {'name': 'When a dispenser is present', 'line index': 4},\n",
       "   'correct': {'name': 'When a pharmacist is present', 'line index': 3}}}}"
      ]
     },
     "execution_count": 4,
     "metadata": {},
     "output_type": "execute_result"
    }
   ],
   "source": [
    "quiz = {\n",
    "    'section count': 1,\n",
    "    'section 0': {\n",
    "        'name': 'Chapter 1',\n",
    "        'line index': 0,\n",
    "        'question count': 1,\n",
    "        'question 0': {\n",
    "            'name': 'By law P medicines can only be sold:',\n",
    "            'line index': 1,\n",
    "            'wrong 0': {\n",
    "                'name': 'When a counter assistant is present',\n",
    "                'line index': 2,\n",
    "            },\n",
    "            'wrong 1': {\n",
    "                'name': 'When a dispenser is present',\n",
    "                'line index': 4,\n",
    "            },\n",
    "            'correct': {\n",
    "                'name': 'When a pharmacist is present',\n",
    "                'line index': 3,\n",
    "            },\n",
    "        },\n",
    "    },\n",
    "}\n",
    "\n",
    "quiz"
   ]
  },
  {
   "cell_type": "markdown",
   "id": "82dcea44",
   "metadata": {},
   "source": [
    "Now let's create this structure. We will pass line-by-line, marking in sections, questions, and answers as we go:"
   ]
  },
  {
   "cell_type": "code",
   "execution_count": 5,
   "id": "4d6c7275",
   "metadata": {},
   "outputs": [
    {
     "data": {
      "text/plain": [
       "{'section count': 2,\n",
       " 'section 0': {'name': 'Chapter 1',\n",
       "  'line index': 0,\n",
       "  'question count': 10,\n",
       "  'question 0': {'name': 'By law P medicines can only be sold:',\n",
       "   'line index': 1,\n",
       "   'wrong 0': {'name': 'When a counter assistant is present', 'line index': 2},\n",
       "   'correct': {'name': 'When a pharmacist is present', 'line index': 3},\n",
       "   'wrong 1': {'name': 'When a dispenser is present', 'line index': 4}},\n",
       "  'question 1': {'name': 'Which one of the following is a GSL medicine?',\n",
       "   'line index': 5,\n",
       "   'wrong 0': {'name': '32 paracetamol 500mg tablets', 'line index': 6},\n",
       "   'wrong 1': {'name': '30 loperamide capsules', 'line index': 7},\n",
       "   'correct': {'name': '16 aspirin 300mg tablets', 'line index': 8}},\n",
       "  'question 2': {'name': 'How long is prescription for a Controlled Drug valid for?',\n",
       "   'line index': 9,\n",
       "   'wrong 0': {'name': 'Six months from the date the doctor signed the prescription',\n",
       "    'line index': 10},\n",
       "   'correct': {'name': '28 days from the date on the prescription',\n",
       "    'line index': 11},\n",
       "   'wrong 1': {'name': '28 days from the date the patient handed in the prescription to the pharmacy',\n",
       "    'line index': 12}},\n",
       "  'question 3': {'name': 'Which of the following is an example of an active ingredient?',\n",
       "   'line index': 13,\n",
       "   'correct': {'name': 'Paracetamol', 'line index': 14},\n",
       "   'wrong 0': {'name': 'Effervescent agent', 'line index': 15},\n",
       "   'wrong 1': {'name': 'Bulking agent', 'line index': 16}},\n",
       "  'question 4': {'name': 'Which one of the following statements regarding standard operating procedures (SOPs) is TRUE?',\n",
       "   'line index': 17,\n",
       "   'correct': {'name': 'Every step in the dispensing process should have a SOP',\n",
       "    'line index': 18},\n",
       "   'wrong 0': {'name': 'SOPs outline the active ingredients in a tablet',\n",
       "    'line index': 19},\n",
       "   'wrong 1': {'name': 'SOPs are confidential and should not be accessed by pharmacy staff',\n",
       "    'line index': 20}},\n",
       "  'question 5': {'name': 'Which one of the following tasks can you NOT do in the two hour absence of the Responsible Pharmacist (RP)?',\n",
       "   'line index': 21,\n",
       "   'wrong 0': {'name': 'Sell GSL medicines over the counter',\n",
       "    'line index': 22},\n",
       "   'correct': {'name': 'Hand out dispensed medicines that have been pre-checked and bagged',\n",
       "    'line index': 23},\n",
       "   'wrong 1': {'name': 'Take in prescriptions', 'line index': 24}},\n",
       "  'question 6': {'name': 'A pregnant woman asks to buy some iron tablets. You should:',\n",
       "   'line index': 25,\n",
       "   'wrong 0': {'name': 'Sell them to her since pregnant women are often low in iron',\n",
       "    'line index': 26},\n",
       "   'wrong 1': {'name': 'Refer her to her doctor as she will need a blood test',\n",
       "    'line index': 27},\n",
       "   'correct': {'name': 'Find out if she has taken them before then refer her to the pharmacist',\n",
       "    'line index': 28}},\n",
       "  'question 7': {'name': 'Which one of the following customers has symptoms that should be referred to the pharmacist?',\n",
       "   'line index': 29,\n",
       "   'wrong 0': {'name': 'A 10 year old child who has a chesty cough that started yesterday',\n",
       "    'line index': 30},\n",
       "   'wrong 1': {'name': 'A 12 year old child who has had head lice for the last five days',\n",
       "    'line index': 31},\n",
       "   'correct': {'name': 'A 14 year old child who has felt dizzy for the last two hours with a headache',\n",
       "    'line index': 32}},\n",
       "  'question 8': {'name': 'What should you do when someone comes in and asks for co-codamol tablets?',\n",
       "   'line index': 33,\n",
       "   'wrong 0': {'name': 'Sell them to the customer without question',\n",
       "    'line index': 34},\n",
       "   'correct': {'name': 'Refer them to the pharmacist immediately',\n",
       "    'line index': 35},\n",
       "   'wrong 1': {'name': 'Ask them whether they have had them before, who is going to use them, and whether they take any other medication',\n",
       "    'line index': 36}},\n",
       "  'question 9': {'name': \"A woman comes in and requests information on her husband's medication. You...\",\n",
       "   'line index': 37,\n",
       "   'wrong 0': {'name': \"access the husband's PMR and tell his wife the medication he is taking\",\n",
       "    'line index': 38},\n",
       "   'wrong 1': {'name': 'ask the lady to confirm the address and then tell her the medication he is taking',\n",
       "    'line index': 39},\n",
       "   'correct': {'name': 'refer the lady to your pharmacist',\n",
       "    'line index': 40}}},\n",
       " 'section 1': {'name': 'Chapter 2',\n",
       "  'line index': 41,\n",
       "  'question count': 4,\n",
       "  'question 0': {'name': 'If a patient returns some unwanted Controlled Drugs to your pharmacy, you should...',\n",
       "   'line index': 42,\n",
       "   'correct': {'name': 'highligh this to the pharmacist immediately',\n",
       "    'line index': 43},\n",
       "   'wrong 0': {'name': 'dispose of them in the dustbin', 'line index': 44},\n",
       "   'wrong 1': {'name': 'dispose of them in the special waste containers',\n",
       "    'line index': 45}},\n",
       "  'question 1': {'name': 'Which of the following colours indicates that the fire extinguisher is suitable for an ordinary fire involving paper?',\n",
       "   'line index': 46,\n",
       "   'wrong 0': {'name': 'Black', 'line index': 47},\n",
       "   'correct': {'name': 'Red', 'line index': 48},\n",
       "   'wrong 1': {'name': 'Blue', 'line index': 49}},\n",
       "  'question 2': {'name': 'What should you NOT do if you have a request for an item that is currently out of stock?',\n",
       "   'line index': 50,\n",
       "   'wrong 0': {'name': 'Check the stock room thoroughly to confirm the item is not in stock',\n",
       "    'line index': 51},\n",
       "   'correct': {'name': \"Leave the customer's details clearly visible within the pharmacy so staff can easily access them\",\n",
       "    'line index': 52},\n",
       "   'wrong 1': {'name': 'Check how long it will take for the item to get delivered',\n",
       "    'line index': 53}},\n",
       "  'question 3': {'name': 'Which of the following can be included as part of a risk managemment programme in relation to clinical governance?',\n",
       "   'line index': 54,\n",
       "   'wrong 0': {'name': 'Undertaking a patient satisfaction survey anually',\n",
       "    'line index': 55},\n",
       "   'correct': {'name': 'Appropriate waste disposal arrangements',\n",
       "    'line index': 56},\n",
       "   'wrong 1': {'name': 'Undertaking a clinical audit programme',\n",
       "    'line index': 57}}}}"
      ]
     },
     "execution_count": 5,
     "metadata": {},
     "output_type": "execute_result"
    }
   ],
   "source": [
    "# where all data is stored\n",
    "quiz = {}\n",
    "# counters used to keep track of indices\n",
    "section_counter = -1\n",
    "question_counter = -1\n",
    "wrong_counter = -1\n",
    "\n",
    "# pass through every line\n",
    "for line_index, line in enumerate(content):\n",
    "    # get the identifier\n",
    "    identifier = line[0]\n",
    "    \n",
    "    # check if this is a section\n",
    "    if identifier == '=':\n",
    "        # increase counter\n",
    "        section_counter += 1\n",
    "        \n",
    "        # reset question counter\n",
    "        question_counter = -1\n",
    "        \n",
    "        # update the section count (index so +1)\n",
    "        quiz['section count'] = section_counter + 1\n",
    "        \n",
    "        # add a section\n",
    "        quiz[f'section {section_counter}'] = {\n",
    "            'name': line[1:],\n",
    "            'line index': line_index,\n",
    "        }\n",
    "    \n",
    "    # check if this is a question\n",
    "    if identifier == '-':\n",
    "        # increase counter\n",
    "        question_counter += 1\n",
    "        \n",
    "        # reset wrong counter\n",
    "        wrong_counter = -1\n",
    "        \n",
    "        # update this sections question count (index so +1)\n",
    "        quiz[f'section {section_counter}']['question count'] = question_counter + 1\n",
    "        \n",
    "        # add a question to this section\n",
    "        quiz[f'section {section_counter}'][f'question {question_counter}'] = {\n",
    "            'name': line[1:],\n",
    "            'line index': line_index,\n",
    "        }\n",
    "    \n",
    "    # check if this is a wrong answer\n",
    "    if identifier == '+':\n",
    "        # increase counter\n",
    "        wrong_counter += 1\n",
    "        \n",
    "        # add a wrong answer to this question\n",
    "        quiz[f'section {section_counter}'][f'question {question_counter}'][f'wrong {wrong_counter}'] = {\n",
    "            'name': line[1:],\n",
    "            'line index': line_index,\n",
    "        }\n",
    "        \n",
    "    # check if this is a correct answer\n",
    "    if identifier == '_':\n",
    "        # add a correct answer to this question\n",
    "        quiz[f'section {section_counter}'][f'question {question_counter}'][f'correct'] = {\n",
    "            'name': line[1:],\n",
    "            'line index': line_index,\n",
    "        }\n",
    "\n",
    "quiz"
   ]
  },
  {
   "cell_type": "markdown",
   "id": "cb3d4e9a",
   "metadata": {},
   "source": [
    "### 1.2 Selecting Questions / Randomisation"
   ]
  },
  {
   "cell_type": "markdown",
   "id": "fcaa584a",
   "metadata": {},
   "source": [
    "In this section, we will show how to obtain a list of all questions, while randomising the order of them and answers.\n",
    "\n",
    "First, let's obtain all questions and answers in one list:"
   ]
  },
  {
   "cell_type": "code",
   "execution_count": 6,
   "id": "4ef5505b",
   "metadata": {},
   "outputs": [
    {
     "data": {
      "text/plain": [
       "[{'name': 'By law P medicines can only be sold:',\n",
       "  'line index': 1,\n",
       "  'wrong 0': {'name': 'When a counter assistant is present', 'line index': 2},\n",
       "  'correct': {'name': 'When a pharmacist is present', 'line index': 3},\n",
       "  'wrong 1': {'name': 'When a dispenser is present', 'line index': 4}},\n",
       " {'name': 'Which one of the following is a GSL medicine?',\n",
       "  'line index': 5,\n",
       "  'wrong 0': {'name': '32 paracetamol 500mg tablets', 'line index': 6},\n",
       "  'wrong 1': {'name': '30 loperamide capsules', 'line index': 7},\n",
       "  'correct': {'name': '16 aspirin 300mg tablets', 'line index': 8}},\n",
       " {'name': 'How long is prescription for a Controlled Drug valid for?',\n",
       "  'line index': 9,\n",
       "  'wrong 0': {'name': 'Six months from the date the doctor signed the prescription',\n",
       "   'line index': 10},\n",
       "  'correct': {'name': '28 days from the date on the prescription',\n",
       "   'line index': 11},\n",
       "  'wrong 1': {'name': '28 days from the date the patient handed in the prescription to the pharmacy',\n",
       "   'line index': 12}},\n",
       " {'name': 'Which of the following is an example of an active ingredient?',\n",
       "  'line index': 13,\n",
       "  'correct': {'name': 'Paracetamol', 'line index': 14},\n",
       "  'wrong 0': {'name': 'Effervescent agent', 'line index': 15},\n",
       "  'wrong 1': {'name': 'Bulking agent', 'line index': 16}},\n",
       " {'name': 'Which one of the following statements regarding standard operating procedures (SOPs) is TRUE?',\n",
       "  'line index': 17,\n",
       "  'correct': {'name': 'Every step in the dispensing process should have a SOP',\n",
       "   'line index': 18},\n",
       "  'wrong 0': {'name': 'SOPs outline the active ingredients in a tablet',\n",
       "   'line index': 19},\n",
       "  'wrong 1': {'name': 'SOPs are confidential and should not be accessed by pharmacy staff',\n",
       "   'line index': 20}},\n",
       " {'name': 'Which one of the following tasks can you NOT do in the two hour absence of the Responsible Pharmacist (RP)?',\n",
       "  'line index': 21,\n",
       "  'wrong 0': {'name': 'Sell GSL medicines over the counter', 'line index': 22},\n",
       "  'correct': {'name': 'Hand out dispensed medicines that have been pre-checked and bagged',\n",
       "   'line index': 23},\n",
       "  'wrong 1': {'name': 'Take in prescriptions', 'line index': 24}},\n",
       " {'name': 'A pregnant woman asks to buy some iron tablets. You should:',\n",
       "  'line index': 25,\n",
       "  'wrong 0': {'name': 'Sell them to her since pregnant women are often low in iron',\n",
       "   'line index': 26},\n",
       "  'wrong 1': {'name': 'Refer her to her doctor as she will need a blood test',\n",
       "   'line index': 27},\n",
       "  'correct': {'name': 'Find out if she has taken them before then refer her to the pharmacist',\n",
       "   'line index': 28}},\n",
       " {'name': 'Which one of the following customers has symptoms that should be referred to the pharmacist?',\n",
       "  'line index': 29,\n",
       "  'wrong 0': {'name': 'A 10 year old child who has a chesty cough that started yesterday',\n",
       "   'line index': 30},\n",
       "  'wrong 1': {'name': 'A 12 year old child who has had head lice for the last five days',\n",
       "   'line index': 31},\n",
       "  'correct': {'name': 'A 14 year old child who has felt dizzy for the last two hours with a headache',\n",
       "   'line index': 32}},\n",
       " {'name': 'What should you do when someone comes in and asks for co-codamol tablets?',\n",
       "  'line index': 33,\n",
       "  'wrong 0': {'name': 'Sell them to the customer without question',\n",
       "   'line index': 34},\n",
       "  'correct': {'name': 'Refer them to the pharmacist immediately',\n",
       "   'line index': 35},\n",
       "  'wrong 1': {'name': 'Ask them whether they have had them before, who is going to use them, and whether they take any other medication',\n",
       "   'line index': 36}},\n",
       " {'name': \"A woman comes in and requests information on her husband's medication. You...\",\n",
       "  'line index': 37,\n",
       "  'wrong 0': {'name': \"access the husband's PMR and tell his wife the medication he is taking\",\n",
       "   'line index': 38},\n",
       "  'wrong 1': {'name': 'ask the lady to confirm the address and then tell her the medication he is taking',\n",
       "   'line index': 39},\n",
       "  'correct': {'name': 'refer the lady to your pharmacist', 'line index': 40}},\n",
       " {'name': 'If a patient returns some unwanted Controlled Drugs to your pharmacy, you should...',\n",
       "  'line index': 42,\n",
       "  'correct': {'name': 'highligh this to the pharmacist immediately',\n",
       "   'line index': 43},\n",
       "  'wrong 0': {'name': 'dispose of them in the dustbin', 'line index': 44},\n",
       "  'wrong 1': {'name': 'dispose of them in the special waste containers',\n",
       "   'line index': 45}},\n",
       " {'name': 'Which of the following colours indicates that the fire extinguisher is suitable for an ordinary fire involving paper?',\n",
       "  'line index': 46,\n",
       "  'wrong 0': {'name': 'Black', 'line index': 47},\n",
       "  'correct': {'name': 'Red', 'line index': 48},\n",
       "  'wrong 1': {'name': 'Blue', 'line index': 49}},\n",
       " {'name': 'What should you NOT do if you have a request for an item that is currently out of stock?',\n",
       "  'line index': 50,\n",
       "  'wrong 0': {'name': 'Check the stock room thoroughly to confirm the item is not in stock',\n",
       "   'line index': 51},\n",
       "  'correct': {'name': \"Leave the customer's details clearly visible within the pharmacy so staff can easily access them\",\n",
       "   'line index': 52},\n",
       "  'wrong 1': {'name': 'Check how long it will take for the item to get delivered',\n",
       "   'line index': 53}},\n",
       " {'name': 'Which of the following can be included as part of a risk managemment programme in relation to clinical governance?',\n",
       "  'line index': 54,\n",
       "  'wrong 0': {'name': 'Undertaking a patient satisfaction survey anually',\n",
       "   'line index': 55},\n",
       "  'correct': {'name': 'Appropriate waste disposal arrangements',\n",
       "   'line index': 56},\n",
       "  'wrong 1': {'name': 'Undertaking a clinical audit programme',\n",
       "   'line index': 57}}]"
      ]
     },
     "execution_count": 6,
     "metadata": {},
     "output_type": "execute_result"
    }
   ],
   "source": [
    "# store all question dictionaries in a list\n",
    "questions = []\n",
    "# use section count to pass through each section\n",
    "for section_index in range(quiz['section count']):\n",
    "    # get each question by using section count to get index\n",
    "    for question_index in range(quiz[f'section {section_index}']['question count']):\n",
    "        # append to list\n",
    "        questions.append(quiz[f'section {section_index}'][f'question {question_index}'])\n",
    "\n",
    "questions"
   ]
  },
  {
   "cell_type": "markdown",
   "id": "46d29ffa",
   "metadata": {},
   "source": [
    "We can obtain a random question by using:"
   ]
  },
  {
   "cell_type": "code",
   "execution_count": 7,
   "id": "7b43b8ce",
   "metadata": {},
   "outputs": [
    {
     "name": "stdout",
     "output_type": "stream",
     "text": [
      "{'name': 'How long is prescription for a Controlled Drug valid for?', 'line index': 9, 'wrong 0': {'name': 'Six months from the date the doctor signed the prescription', 'line index': 10}, 'correct': {'name': '28 days from the date on the prescription', 'line index': 11}, 'wrong 1': {'name': '28 days from the date the patient handed in the prescription to the pharmacy', 'line index': 12}}\n"
     ]
    }
   ],
   "source": [
    "import random\n",
    " \n",
    "# prints a random value from the list\n",
    "print(random.choice(questions))"
   ]
  },
  {
   "cell_type": "markdown",
   "id": "699414c2",
   "metadata": {},
   "source": [
    "And obtaining a random order for answers:"
   ]
  },
  {
   "cell_type": "code",
   "execution_count": 8,
   "id": "48177e4e",
   "metadata": {},
   "outputs": [
    {
     "data": {
      "text/plain": [
       "['wrong 1', 'correct', 'wrong 0']"
      ]
     },
     "execution_count": 8,
     "metadata": {},
     "output_type": "execute_result"
    }
   ],
   "source": [
    "# list of answers\n",
    "answers = ['wrong 0', 'wrong 1', 'correct']\n",
    "# randomly shuffle the list\n",
    "random.shuffle(answers)\n",
    "answers"
   ]
  },
  {
   "cell_type": "markdown",
   "id": "a2aa4bd8",
   "metadata": {},
   "source": [
    "Obtaining all questions for one section:"
   ]
  },
  {
   "cell_type": "code",
   "execution_count": 9,
   "id": "60f3211e",
   "metadata": {},
   "outputs": [
    {
     "data": {
      "text/plain": [
       "[{'name': 'By law P medicines can only be sold:',\n",
       "  'line index': 1,\n",
       "  'wrong 0': {'name': 'When a counter assistant is present', 'line index': 2},\n",
       "  'correct': {'name': 'When a pharmacist is present', 'line index': 3},\n",
       "  'wrong 1': {'name': 'When a dispenser is present', 'line index': 4}},\n",
       " {'name': 'Which one of the following is a GSL medicine?',\n",
       "  'line index': 5,\n",
       "  'wrong 0': {'name': '32 paracetamol 500mg tablets', 'line index': 6},\n",
       "  'wrong 1': {'name': '30 loperamide capsules', 'line index': 7},\n",
       "  'correct': {'name': '16 aspirin 300mg tablets', 'line index': 8}},\n",
       " {'name': 'How long is prescription for a Controlled Drug valid for?',\n",
       "  'line index': 9,\n",
       "  'wrong 0': {'name': 'Six months from the date the doctor signed the prescription',\n",
       "   'line index': 10},\n",
       "  'correct': {'name': '28 days from the date on the prescription',\n",
       "   'line index': 11},\n",
       "  'wrong 1': {'name': '28 days from the date the patient handed in the prescription to the pharmacy',\n",
       "   'line index': 12}},\n",
       " {'name': 'Which of the following is an example of an active ingredient?',\n",
       "  'line index': 13,\n",
       "  'correct': {'name': 'Paracetamol', 'line index': 14},\n",
       "  'wrong 0': {'name': 'Effervescent agent', 'line index': 15},\n",
       "  'wrong 1': {'name': 'Bulking agent', 'line index': 16}},\n",
       " {'name': 'Which one of the following statements regarding standard operating procedures (SOPs) is TRUE?',\n",
       "  'line index': 17,\n",
       "  'correct': {'name': 'Every step in the dispensing process should have a SOP',\n",
       "   'line index': 18},\n",
       "  'wrong 0': {'name': 'SOPs outline the active ingredients in a tablet',\n",
       "   'line index': 19},\n",
       "  'wrong 1': {'name': 'SOPs are confidential and should not be accessed by pharmacy staff',\n",
       "   'line index': 20}},\n",
       " {'name': 'Which one of the following tasks can you NOT do in the two hour absence of the Responsible Pharmacist (RP)?',\n",
       "  'line index': 21,\n",
       "  'wrong 0': {'name': 'Sell GSL medicines over the counter', 'line index': 22},\n",
       "  'correct': {'name': 'Hand out dispensed medicines that have been pre-checked and bagged',\n",
       "   'line index': 23},\n",
       "  'wrong 1': {'name': 'Take in prescriptions', 'line index': 24}},\n",
       " {'name': 'A pregnant woman asks to buy some iron tablets. You should:',\n",
       "  'line index': 25,\n",
       "  'wrong 0': {'name': 'Sell them to her since pregnant women are often low in iron',\n",
       "   'line index': 26},\n",
       "  'wrong 1': {'name': 'Refer her to her doctor as she will need a blood test',\n",
       "   'line index': 27},\n",
       "  'correct': {'name': 'Find out if she has taken them before then refer her to the pharmacist',\n",
       "   'line index': 28}},\n",
       " {'name': 'Which one of the following customers has symptoms that should be referred to the pharmacist?',\n",
       "  'line index': 29,\n",
       "  'wrong 0': {'name': 'A 10 year old child who has a chesty cough that started yesterday',\n",
       "   'line index': 30},\n",
       "  'wrong 1': {'name': 'A 12 year old child who has had head lice for the last five days',\n",
       "   'line index': 31},\n",
       "  'correct': {'name': 'A 14 year old child who has felt dizzy for the last two hours with a headache',\n",
       "   'line index': 32}},\n",
       " {'name': 'What should you do when someone comes in and asks for co-codamol tablets?',\n",
       "  'line index': 33,\n",
       "  'wrong 0': {'name': 'Sell them to the customer without question',\n",
       "   'line index': 34},\n",
       "  'correct': {'name': 'Refer them to the pharmacist immediately',\n",
       "   'line index': 35},\n",
       "  'wrong 1': {'name': 'Ask them whether they have had them before, who is going to use them, and whether they take any other medication',\n",
       "   'line index': 36}},\n",
       " {'name': \"A woman comes in and requests information on her husband's medication. You...\",\n",
       "  'line index': 37,\n",
       "  'wrong 0': {'name': \"access the husband's PMR and tell his wife the medication he is taking\",\n",
       "   'line index': 38},\n",
       "  'wrong 1': {'name': 'ask the lady to confirm the address and then tell her the medication he is taking',\n",
       "   'line index': 39},\n",
       "  'correct': {'name': 'refer the lady to your pharmacist', 'line index': 40}}]"
      ]
     },
     "execution_count": 9,
     "metadata": {},
     "output_type": "execute_result"
    }
   ],
   "source": [
    "# section to look at\n",
    "section = 'section 0'\n",
    "\n",
    "# store all question dictionaries in a list\n",
    "questions = []\n",
    "# get each question by using section count to get index\n",
    "for question_index in range(quiz[section]['question count']):\n",
    "    # append to list\n",
    "    questions.append(quiz[section][f'question {question_index}'])\n",
    "\n",
    "questions"
   ]
  },
  {
   "cell_type": "code",
   "execution_count": null,
   "id": "d12f9e5a",
   "metadata": {},
   "outputs": [],
   "source": []
  }
 ],
 "metadata": {
  "kernelspec": {
   "display_name": "Python 3 (ipykernel)",
   "language": "python",
   "name": "python3"
  },
  "language_info": {
   "codemirror_mode": {
    "name": "ipython",
    "version": 3
   },
   "file_extension": ".py",
   "mimetype": "text/x-python",
   "name": "python",
   "nbconvert_exporter": "python",
   "pygments_lexer": "ipython3",
   "version": "3.9.7"
  }
 },
 "nbformat": 4,
 "nbformat_minor": 5
}
